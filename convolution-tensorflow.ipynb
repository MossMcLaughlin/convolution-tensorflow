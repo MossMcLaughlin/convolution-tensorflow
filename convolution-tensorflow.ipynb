{
 "cells": [
  {
   "cell_type": "markdown",
   "metadata": {},
   "source": [
    "This notebook covers images, maipluating images and convolution."
   ]
  },
  {
   "cell_type": "code",
   "execution_count": null,
   "metadata": {
    "collapsed": false
   },
   "outputs": [],
   "source": [
    "import numpy as np\n",
    "from scipy import misc\n",
    "import matplotlib.pyplot as plt\n",
    "import tensorflow as tf "
   ]
  },
  {
   "cell_type": "code",
   "execution_count": null,
   "metadata": {
    "collapsed": true
   },
   "outputs": [],
   "source": [
    "# Sample image \n",
    "#!wget --output-document /data/sample_img.png https://ibm.box.com/shared/static/yqjnv0890doeu3mwb2u97f8rh1p0gd98.png"
   ]
  },
  {
   "cell_type": "code",
   "execution_count": null,
   "metadata": {
    "collapsed": false
   },
   "outputs": [],
   "source": [
    "%matplotlib inline\n",
    "\n",
    "f = misc.face()\n",
    "gray_f = np.dot(f[...,:3], [0.299, 0.587, 0.114])\n",
    "plt.imshow(f)\n",
    "plt.title(\"Original Image\")\n",
    "print(\"Image shape: {}\".format(f.shape))"
   ]
  },
  {
   "cell_type": "code",
   "execution_count": null,
   "metadata": {
    "collapsed": false
   },
   "outputs": [],
   "source": [
    "plt.imshow(gray_f,cmap=plt.get_cmap(\"gray\"))\n",
    "plt.title(\"Gray scale image\")\n",
    "print(\"Grayscale image shape: {}\".format(gray_f.shape))"
   ]
  },
  {
   "cell_type": "markdown",
   "metadata": {},
   "source": [
    "When performing convolution on images in tensorflow, the data passed is expected to have * Shape = [Batch_size, Height, Width, Channels] *   \n",
    "Note the number of channels is three for rgb and one for grayscale. This means we will need to 'expand dimensions' for grayscale (or and singlechannel images) and for individual images. (Twice for individual single-channel images)"
   ]
  },
  {
   "cell_type": "code",
   "execution_count": null,
   "metadata": {
    "collapsed": false
   },
   "outputs": [],
   "source": [
    "Image = np.expand_dims(np.expand_dims(gray_f,0),-1)\n",
    "print(Image.shape)"
   ]
  },
  {
   "cell_type": "markdown",
   "metadata": {},
   "source": [
    "Out image is now ready to be passed to tensorflow for colvolution. First we want to create a placeholer of the same shap as our data will be then we will be ready to set up our colvolution graph"
   ]
  },
  {
   "cell_type": "code",
   "execution_count": null,
   "metadata": {
    "collapsed": false
   },
   "outputs": [],
   "source": [
    "batch_size = 1\n",
    "input_dat = tf.placeholder(tf.float32,[batch_size,768,1024,1])"
   ]
  },
  {
   "cell_type": "markdown",
   "metadata": {},
   "source": [
    "Our weight tensor is expected to be of the shape: * [filter_height, filter_width, in_channels, out_channels] *"
   ]
  },
  {
   "cell_type": "code",
   "execution_count": null,
   "metadata": {
    "collapsed": true
   },
   "outputs": [],
   "source": [
    "filter_shape = [5, 5, 1, 1]\n",
    "W = tf.Variable(tf.truncated_normal(filter_shape, stddev=0.1),name=\"W\")\n"
   ]
  },
  {
   "cell_type": "code",
   "execution_count": null,
   "metadata": {
    "collapsed": false
   },
   "outputs": [],
   "source": [
    "CONV = tf.nn.conv2d(input=input_dat,\n",
    "                         filter=W,\n",
    "                         strides=[1, 1, 1, 1],\n",
    "                         padding='SAME')"
   ]
  },
  {
   "cell_type": "code",
   "execution_count": null,
   "metadata": {
    "collapsed": true
   },
   "outputs": [],
   "source": []
  }
 ],
 "metadata": {
  "kernelspec": {
   "display_name": "Python 3",
   "language": "python",
   "name": "python3"
  },
  "language_info": {
   "codemirror_mode": {
    "name": "ipython",
    "version": 3
   },
   "file_extension": ".py",
   "mimetype": "text/x-python",
   "name": "python",
   "nbconvert_exporter": "python",
   "pygments_lexer": "ipython3",
   "version": "3.6.0"
  }
 },
 "nbformat": 4,
 "nbformat_minor": 2
}
